{
 "cells": [
  {
   "cell_type": "code",
   "execution_count": null,
   "id": "96c0c064",
   "metadata": {},
   "outputs": [],
   "source": [
    "# Solution \n",
    "def find_elf(file):\n",
    "    \"\"\"\n",
    "        Take a .txt file and return the value of the calories carried by the elf carrying the most calories.\n",
    "    \"\"\"\n",
    "    index = 0 # Used to find blank lines to split up values\n",
    "    sums = [] # Holds each sum \n",
    "    with open(file,'r') as f:\n",
    "        lines = f.readlines()\n",
    "        for i, line in enumerate(lines):\n",
    "            if line == '\\n': # Checks to see if line is a newline\n",
    "                sums.append(sum([int(i.strip()) for i in lines[index:i]])) # If it is, sum all values between index and i\n",
    "                index = i+1 # Set new index to the line after the newline ready for the next sum\n",
    "    return max(sums)\n",
    "        "
   ]
  },
  {
   "cell_type": "code",
   "execution_count": null,
   "id": "21dd1918",
   "metadata": {},
   "outputs": [],
   "source": [
    "# Test\n",
    "find_elf('./input.txt')"
   ]
  },
  {
   "cell_type": "code",
   "execution_count": null,
   "id": "ac0f6941",
   "metadata": {},
   "outputs": [],
   "source": [
    "import numpy as np \n",
    "\n",
    "# Part 2 solution a)\n",
    "\n",
    "def find_top_elves_a(file):\n",
    "    \"\"\"\n",
    "        Solution to part 2. First Solution uses Numpy.\n",
    "    \"\"\"\n",
    "    index = 0 # Used to find blank lines to split up values\n",
    "    sums = [] # Holds each sum \n",
    "    with open(file,'r') as f:\n",
    "        lines = f.readlines()\n",
    "        for i, line in enumerate(lines):\n",
    "            if line == '\\n': # Checks to see if line is a newline\n",
    "                sums.append(sum([int(i.strip()) for i in lines[index:i]])) # If it is, sum all values between index and i\n",
    "                index = i+1 # Set new index to the line after the newline ready for the next sum\n",
    "    sums = np.array(sums)\n",
    "    return np.sum(sums[np.argsort(sums)[-3:]])"
   ]
  },
  {
   "cell_type": "code",
   "execution_count": null,
   "id": "1149de97",
   "metadata": {},
   "outputs": [],
   "source": [
    "find_top_elves_a('./input.txt')"
   ]
  },
  {
   "cell_type": "code",
   "execution_count": null,
   "id": "224158a8",
   "metadata": {},
   "outputs": [],
   "source": [
    "# Part 2 solution b)\n",
    "\n",
    "def find_top_elves_b(file):\n",
    "    \"\"\"\n",
    "        Solution to part 2. Second solution does not use numpy. \n",
    "    \"\"\"\n",
    "    index = 0 # Used to find blank lines to split up values\n",
    "    sums = [] # Holds each sum \n",
    "    with open(file,'r') as f:\n",
    "        lines = f.readlines()\n",
    "        for i, line in enumerate(lines):\n",
    "            if line == '\\n': # Checks to see if line is a newline\n",
    "                sums.append(sum([int(i.strip()) for i in lines[index:i]])) # If it is, sum all values between index and i\n",
    "                index = i+1 # Set new index to the line after the newline ready for the next sum\n",
    "    \n",
    "    ### \n",
    "    top3 = []\n",
    "    while len(top3)<3:\n",
    "        top3.append(max(sums))\n",
    "        sums.pop(sums.index(max(sums)))\n",
    "    \n",
    "    return sum(top3)"
   ]
  },
  {
   "cell_type": "code",
   "execution_count": null,
   "id": "d61daa74",
   "metadata": {},
   "outputs": [],
   "source": [
    "find_top_elves_b('./input.txt')"
   ]
  },
  {
   "cell_type": "code",
   "execution_count": null,
   "id": "4ff2d476",
   "metadata": {},
   "outputs": [],
   "source": []
  },
  {
   "cell_type": "code",
   "execution_count": null,
   "id": "f4f70b8b",
   "metadata": {},
   "outputs": [],
   "source": []
  },
  {
   "cell_type": "code",
   "execution_count": null,
   "id": "da6ae599",
   "metadata": {},
   "outputs": [],
   "source": []
  }
 ],
 "metadata": {
  "kernelspec": {
   "display_name": "network",
   "language": "python",
   "name": "network"
  },
  "language_info": {
   "codemirror_mode": {
    "name": "ipython",
    "version": 3
   },
   "file_extension": ".py",
   "mimetype": "text/x-python",
   "name": "python",
   "nbconvert_exporter": "python",
   "pygments_lexer": "ipython3",
   "version": "3.9.13"
  }
 },
 "nbformat": 4,
 "nbformat_minor": 5
}
