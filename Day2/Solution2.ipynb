{
 "cells": [
  {
   "cell_type": "markdown",
   "id": "8ee88ea7",
   "metadata": {},
   "source": [
    "**Part 1**"
   ]
  },
  {
   "cell_type": "markdown",
   "id": "3789ac56",
   "metadata": {},
   "source": [
    "**I'm not particularly happy with this answer, feels very messy but I wanted to write an answer that doesn't just use a bunch of if/else and instead just create mappings for both answers but the necessary hard-coding of outcomes/scores makes it feel bad.**"
   ]
  },
  {
   "cell_type": "code",
   "execution_count": null,
   "id": "f4bfea95",
   "metadata": {},
   "outputs": [],
   "source": [
    "choices = ['X','Y','Z']\n",
    "choice_scores = {j:i+1 for i,j in enumerate(choices)}\n",
    "values = [[3,0,6],[6,3,0],[0,6,3]]\n",
    "outcomes = {}\n",
    "\n",
    "for i,j in zip(choices,values):\n",
    "    for a,b,c in zip(['A','B','C'],[i]*3,j):\n",
    "        outcomes[(a,b)] = c + choice_scores[b]\n",
    "    \n",
    "def score(file):\n",
    "    score = []\n",
    "    with open(file,'r') as f:\n",
    "        lines = f.readlines()\n",
    "    for line in lines:\n",
    "        A, B = line.split()\n",
    "        score.append(outcomes[(A,B)])\n",
    "    return sum(score)"
   ]
  },
  {
   "cell_type": "code",
   "execution_count": null,
   "id": "aea3f4b6",
   "metadata": {},
   "outputs": [],
   "source": [
    "score('./input.txt')"
   ]
  },
  {
   "cell_type": "markdown",
   "id": "d822478c",
   "metadata": {},
   "source": [
    "**Part 2**"
   ]
  },
  {
   "cell_type": "code",
   "execution_count": null,
   "id": "aae9d8dc",
   "metadata": {},
   "outputs": [],
   "source": [
    "choices = ['X','Y','Z']\n",
    "values = [['S','R','P'],['R','P','S'],['P','S','R']]\n",
    "choice_values = {j:i+1 for i,j in enumerate(['R','P','S'])}\n",
    "points = {'X':0,'Y':3,'Z':6}\n",
    "new_outcomes = {}\n",
    "for i,j in zip(choices,values):\n",
    "    for a,b,c in zip(['A','B','C'],[i]*3,j):\n",
    "        new_outcomes[(a,b)] = points[b]+choice_values[c]"
   ]
  },
  {
   "cell_type": "code",
   "execution_count": null,
   "id": "1b37551a",
   "metadata": {},
   "outputs": [],
   "source": [
    "def score(file):\n",
    "    score = []\n",
    "    with open(file,'r') as f:\n",
    "        lines = f.readlines()\n",
    "    for line in lines:\n",
    "        A, B = line.split()\n",
    "        score.append(new_outcomes[(A,B)])\n",
    "    return sum(score)"
   ]
  },
  {
   "cell_type": "code",
   "execution_count": null,
   "id": "7d7b8db9",
   "metadata": {},
   "outputs": [],
   "source": [
    "score('./input.txt')"
   ]
  }
 ],
 "metadata": {
  "kernelspec": {
   "display_name": "network",
   "language": "python",
   "name": "network"
  },
  "language_info": {
   "codemirror_mode": {
    "name": "ipython",
    "version": 3
   },
   "file_extension": ".py",
   "mimetype": "text/x-python",
   "name": "python",
   "nbconvert_exporter": "python",
   "pygments_lexer": "ipython3",
   "version": "3.9.13"
  }
 },
 "nbformat": 4,
 "nbformat_minor": 5
}
