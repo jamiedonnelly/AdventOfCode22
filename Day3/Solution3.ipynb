{
 "cells": [
  {
   "cell_type": "code",
   "execution_count": null,
   "id": "c44fe4a6",
   "metadata": {},
   "outputs": [],
   "source": [
    "import string"
   ]
  },
  {
   "cell_type": "markdown",
   "id": "cf48d134",
   "metadata": {},
   "source": [
    "**Part 1**"
   ]
  },
  {
   "cell_type": "code",
   "execution_count": null,
   "id": "dcb8bce6",
   "metadata": {
    "scrolled": true
   },
   "outputs": [],
   "source": [
    "offset = {'UC':38,'LC':96}\n",
    "mapping = {}\n",
    "for i in list(set(string.ascii_lowercase) | set(string.ascii_uppercase)):\n",
    "    if i.isupper():\n",
    "        mapping[i] = ord(i)-offset['UC']\n",
    "    else:\n",
    "        mapping[i] = ord(i)-offset['LC']\n",
    "        \n",
    "def find_val(string):\n",
    "    a, b = list(string[:len(string)//2]), list(string[len(string)//2:])\n",
    "    return list(set(a) & set(b))[0]\n",
    "\n",
    "def score(file):\n",
    "    total = 0\n",
    "    with open(file,'r') as f:\n",
    "        lines = f.readlines()\n",
    "    for line in lines:\n",
    "        total += mapping[find_val(line)]\n",
    "    return total"
   ]
  },
  {
   "cell_type": "code",
   "execution_count": null,
   "id": "8dc64155",
   "metadata": {},
   "outputs": [],
   "source": [
    "score('./input.txt')"
   ]
  },
  {
   "cell_type": "markdown",
   "id": "ca5e825c",
   "metadata": {},
   "source": [
    "**Part 2**"
   ]
  },
  {
   "cell_type": "code",
   "execution_count": null,
   "id": "a5af3c6b",
   "metadata": {},
   "outputs": [],
   "source": [
    "def intersect(strings):\n",
    "    \"\"\"\n",
    "        Find the intersection between two inputs.\n",
    "    \"\"\"\n",
    "    return list(set(strings[0]) & set(strings[1]) & set(strings[2]))[0]\n",
    "\n",
    "def score(file):\n",
    "    total = 0\n",
    "    with open(file,'r') as f:\n",
    "        lines = f.readlines()\n",
    "    groups = [[i.strip() for i in lines[i:i+3]] for i in range(0,len(lines),3)]\n",
    "    for group in groups: \n",
    "        total += mapping[intersect(group)]\n",
    "    return total"
   ]
  },
  {
   "cell_type": "code",
   "execution_count": null,
   "id": "a384d669",
   "metadata": {
    "scrolled": false
   },
   "outputs": [],
   "source": [
    "score('./input.txt')"
   ]
  }
 ],
 "metadata": {
  "kernelspec": {
   "display_name": "network",
   "language": "python",
   "name": "network"
  },
  "language_info": {
   "codemirror_mode": {
    "name": "ipython",
    "version": 3
   },
   "file_extension": ".py",
   "mimetype": "text/x-python",
   "name": "python",
   "nbconvert_exporter": "python",
   "pygments_lexer": "ipython3",
   "version": "3.9.13"
  }
 },
 "nbformat": 4,
 "nbformat_minor": 5
}
