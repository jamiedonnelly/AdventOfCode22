{
 "cells": [
  {
   "cell_type": "markdown",
   "id": "b4d83f32",
   "metadata": {},
   "source": [
    "**Part 1**"
   ]
  },
  {
   "cell_type": "code",
   "execution_count": null,
   "id": "6e14eeaa",
   "metadata": {},
   "outputs": [],
   "source": [
    "def extract_range(string):\n",
    "    values = string.strip().split('-')\n",
    "    return (int(values[0]),int(values[1]))"
   ]
  },
  {
   "cell_type": "code",
   "execution_count": null,
   "id": "537f0d34",
   "metadata": {},
   "outputs": [],
   "source": [
    "with open('./input.txt','r') as f:\n",
    "    lines = f.readlines()\n",
    "count = 0\n",
    "for line in lines:\n",
    "    range1, range2 = extract_range(line.split(',')[0]), extract_range(line.split(',')[1])\n",
    "    if ((range1[0] <= range2[0]) & (range1[1] >= range2[1])) or ((range2[0] <= range1[0]) & (range2[1] >= range1[1])):\n",
    "        count += 1\n",
    "print(count)"
   ]
  },
  {
   "cell_type": "code",
   "execution_count": null,
   "id": "8bd6e7fc",
   "metadata": {},
   "outputs": [],
   "source": [
    "count"
   ]
  },
  {
   "cell_type": "markdown",
   "id": "cfeba581",
   "metadata": {},
   "source": [
    "**Part 2**"
   ]
  },
  {
   "cell_type": "code",
   "execution_count": null,
   "id": "25dac349",
   "metadata": {},
   "outputs": [],
   "source": [
    "with open('./input.txt','r') as f:\n",
    "    lines = f.readlines()\n",
    "count = 0\n",
    "for line in lines:\n",
    "    range1, range2 = extract_range(line.split(',')[0]), extract_range(line.split(',')[1])\n",
    "    if set(range(range1[0],range1[1]+1)).intersection(set(range(range2[0],range2[1]+1))):\n",
    "        count += 1\n",
    "print(count)"
   ]
  }
 ],
 "metadata": {
  "kernelspec": {
   "display_name": "network",
   "language": "python",
   "name": "network"
  },
  "language_info": {
   "codemirror_mode": {
    "name": "ipython",
    "version": 3
   },
   "file_extension": ".py",
   "mimetype": "text/x-python",
   "name": "python",
   "nbconvert_exporter": "python",
   "pygments_lexer": "ipython3",
   "version": "3.9.13"
  }
 },
 "nbformat": 4,
 "nbformat_minor": 5
}
