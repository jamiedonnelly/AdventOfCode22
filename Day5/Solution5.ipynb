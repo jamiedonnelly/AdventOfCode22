{
 "cells": [
  {
   "cell_type": "code",
   "execution_count": null,
   "id": "c5c1bde4",
   "metadata": {},
   "outputs": [],
   "source": [
    "def read_data(file):\n",
    "    with open(file,'r') as f:\n",
    "        lines = f.readlines()\n",
    "    index = lines.index('\\n')\n",
    "    instructions = [[int(j) for j in i.replace('\\n','').split()[1::2]] for i in lines[index+1:]]\n",
    "    return instructions"
   ]
  },
  {
   "cell_type": "code",
   "execution_count": null,
   "id": "57eebe12",
   "metadata": {},
   "outputs": [],
   "source": [
    "instructions = read_data('./input.txt')"
   ]
  },
  {
   "cell_type": "code",
   "execution_count": null,
   "id": "a698d9ed",
   "metadata": {},
   "outputs": [],
   "source": [
    "stack = [\n",
    "    list(\"TRGWQMFP\")[::-1],\n",
    "    list(\"RFH\")[::-1],\n",
    "    list(\"DSHGVRZP\")[::-1],\n",
    "    list(\"GWFBPHQ\")[::-1],\n",
    "    list(\"HJMSP\")[::-1],\n",
    "    list(\"LPRSHTZM\")[::-1],\n",
    "    list(\"LMNHTP\")[::-1],\n",
    "    list(\"RQDF\")[::-1],\n",
    "    list(\"HPLNCSD\")[::-1]\n",
    "]"
   ]
  },
  {
   "cell_type": "code",
   "execution_count": null,
   "id": "b6491dc6",
   "metadata": {
    "scrolled": true
   },
   "outputs": [],
   "source": [
    "for instruction in instructions:\n",
    "    count, orig, dest = instruction\n",
    "    for i in range(-1,-1*(count+1),-1):\n",
    "        stack[dest-1].append(stack[orig-1][i])\n",
    "    for i in range(count):\n",
    "        stack[orig-1].pop(-1)\n",
    "        "
   ]
  },
  {
   "cell_type": "code",
   "execution_count": null,
   "id": "1f6f1799",
   "metadata": {},
   "outputs": [],
   "source": [
    "result = \"\"\n",
    "for i in stack:\n",
    "    result += i[-1]\n",
    "result"
   ]
  },
  {
   "cell_type": "code",
   "execution_count": null,
   "id": "fc7917f7",
   "metadata": {},
   "outputs": [],
   "source": [
    "# Part 2 \n",
    "for instruction in instructions:\n",
    "    count, orig, dest = instruction\n",
    "    stack[dest-1].extend(stack[orig-1][-1*count:])\n",
    "    for i in range(count):\n",
    "        stack[orig-1].pop(-1)"
   ]
  },
  {
   "cell_type": "code",
   "execution_count": null,
   "id": "36c99364",
   "metadata": {},
   "outputs": [],
   "source": [
    "result = \"\"\n",
    "for i in stack:\n",
    "    result += i[-1]\n",
    "result"
   ]
  },
  {
   "cell_type": "code",
   "execution_count": null,
   "id": "d799fad9",
   "metadata": {},
   "outputs": [],
   "source": []
  },
  {
   "cell_type": "code",
   "execution_count": null,
   "id": "79e9385a",
   "metadata": {},
   "outputs": [],
   "source": []
  },
  {
   "cell_type": "code",
   "execution_count": null,
   "id": "a36de4bc",
   "metadata": {},
   "outputs": [],
   "source": []
  },
  {
   "cell_type": "code",
   "execution_count": null,
   "id": "2e8f7e1c",
   "metadata": {},
   "outputs": [],
   "source": []
  },
  {
   "cell_type": "code",
   "execution_count": null,
   "id": "26ab5d9c",
   "metadata": {},
   "outputs": [],
   "source": []
  },
  {
   "cell_type": "code",
   "execution_count": null,
   "id": "804810c4",
   "metadata": {},
   "outputs": [],
   "source": []
  },
  {
   "cell_type": "code",
   "execution_count": null,
   "id": "a55256b2",
   "metadata": {},
   "outputs": [],
   "source": []
  }
 ],
 "metadata": {
  "kernelspec": {
   "display_name": "network",
   "language": "python",
   "name": "network"
  },
  "language_info": {
   "codemirror_mode": {
    "name": "ipython",
    "version": 3
   },
   "file_extension": ".py",
   "mimetype": "text/x-python",
   "name": "python",
   "nbconvert_exporter": "python",
   "pygments_lexer": "ipython3",
   "version": "3.9.13"
  }
 },
 "nbformat": 4,
 "nbformat_minor": 5
}
