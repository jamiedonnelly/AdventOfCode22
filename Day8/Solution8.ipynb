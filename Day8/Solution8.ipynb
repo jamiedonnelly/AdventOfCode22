{
 "cells": [
  {
   "cell_type": "code",
   "execution_count": null,
   "id": "90332461",
   "metadata": {},
   "outputs": [],
   "source": [
    "with open('./input.txt','r') as f:\n",
    "    data = []\n",
    "    for linze in f.readlines():\n",
    "        data.append([int(i) for i in line.strip()])"
   ]
  },
  {
   "cell_type": "code",
   "execution_count": null,
   "id": "afde915b",
   "metadata": {},
   "outputs": [],
   "source": [
    "def check_left(i,j):\n",
    "    prev = [data[i][k] for k in range(0,j)]\n",
    "    if max(prev)<data[i][j]:\n",
    "        return True\n",
    "    return False\n",
    "    \n",
    "def check_right(i,j):\n",
    "    nex = [data[i][k] for k in range(j+1,len(data[0]))]\n",
    "    if max(nex)<data[i][j]:\n",
    "        return True\n",
    "    return False\n",
    "\n",
    "def check_up(i,j):\n",
    "    above = [data[k][j] for k in range(0,i)]\n",
    "    if max(above)<data[i][j]:\n",
    "        return True\n",
    "    return False\n",
    "\n",
    "def check_down(i,j):\n",
    "    below = [data[k][j] for k in range(i+1,len(data))]\n",
    "    if max(below)<data[i][j]:\n",
    "        return True\n",
    "    return False\n",
    "\n",
    "def check(i,j):\n",
    "    if check_left(i,j):\n",
    "        return True\n",
    "    elif check_right(i,j):\n",
    "        return True\n",
    "    elif check_up(i,j):\n",
    "        return True\n",
    "    elif check_down(i,j):\n",
    "        return True\n",
    "    else:\n",
    "        return False"
   ]
  },
  {
   "cell_type": "code",
   "execution_count": null,
   "id": "dcfc7fe2",
   "metadata": {
    "scrolled": false
   },
   "outputs": [],
   "source": [
    "visible = 2*len(data) + 2*(len(data[0])-2)\n",
    "for i in range(1,len(data)-1):\n",
    "    for j in range(1,len(data[0])-1):\n",
    "        if check(i,j):\n",
    "            visible+=1"
   ]
  },
  {
   "cell_type": "code",
   "execution_count": null,
   "id": "c5cde2dc",
   "metadata": {},
   "outputs": [],
   "source": [
    "visible"
   ]
  },
  {
   "cell_type": "code",
   "execution_count": null,
   "id": "8e9d4beb",
   "metadata": {},
   "outputs": [],
   "source": [
    "with open('./input.txt','r') as f:\n",
    "    data = []\n",
    "    for line in f.readlines():\n",
    "        data.append([int(i) for i in line.strip()])"
   ]
  },
  {
   "cell_type": "code",
   "execution_count": null,
   "id": "20bdb625",
   "metadata": {},
   "outputs": [],
   "source": [
    "# Part 2"
   ]
  },
  {
   "cell_type": "code",
   "execution_count": null,
   "id": "990abd67",
   "metadata": {},
   "outputs": [],
   "source": [
    "values = []\n",
    "for i in range(len(data)):\n",
    "    for j in range(len(data[0])):\n",
    "        lsum, rsum, dsum, usum = 0,0,0,0\n",
    "    \n",
    "        # Left \n",
    "        for k in range(1,j+1):\n",
    "            lsum += 1\n",
    "            if data[i][j-k]>=data[i][j]:\n",
    "                break\n",
    "            else:\n",
    "                continue\n",
    "        # Right\n",
    "        for k in range(j+1,len(data[0])):\n",
    "            rsum += 1\n",
    "            if data[i][k]>=data[i][j]:\n",
    "                break\n",
    "            else:\n",
    "                continue\n",
    "                \n",
    "        # Down\n",
    "        for k in range(i+1,len(data)):\n",
    "            dsum += 1\n",
    "            if data[k][j]>=data[i][j]:\n",
    "                break\n",
    "            else:\n",
    "                continue\n",
    "         \n",
    "        # Up\n",
    "        for k in range(1,i+1):\n",
    "            usum += 1\n",
    "            if data[i-k][j]>=data[i][j]:\n",
    "                break\n",
    "            else:\n",
    "                continue   \n",
    "\n",
    "        # Calculate Value\n",
    "        values.append(lsum*rsum*dsum*usum)"
   ]
  },
  {
   "cell_type": "code",
   "execution_count": null,
   "id": "ef7f061f",
   "metadata": {},
   "outputs": [],
   "source": [
    "max(values)"
   ]
  },
  {
   "cell_type": "code",
   "execution_count": null,
   "id": "85faddf4",
   "metadata": {},
   "outputs": [],
   "source": []
  },
  {
   "cell_type": "code",
   "execution_count": null,
   "id": "94ec9df3",
   "metadata": {},
   "outputs": [],
   "source": []
  },
  {
   "cell_type": "code",
   "execution_count": null,
   "id": "e3b9b2e9",
   "metadata": {},
   "outputs": [],
   "source": []
  },
  {
   "cell_type": "code",
   "execution_count": null,
   "id": "db8b356e",
   "metadata": {},
   "outputs": [],
   "source": []
  },
  {
   "cell_type": "code",
   "execution_count": null,
   "id": "ffffe929",
   "metadata": {},
   "outputs": [],
   "source": []
  },
  {
   "cell_type": "code",
   "execution_count": null,
   "id": "3bc74492",
   "metadata": {},
   "outputs": [],
   "source": []
  },
  {
   "cell_type": "code",
   "execution_count": null,
   "id": "1ba132ab",
   "metadata": {},
   "outputs": [],
   "source": []
  }
 ],
 "metadata": {
  "kernelspec": {
   "display_name": "network",
   "language": "python",
   "name": "network"
  },
  "language_info": {
   "codemirror_mode": {
    "name": "ipython",
    "version": 3
   },
   "file_extension": ".py",
   "mimetype": "text/x-python",
   "name": "python",
   "nbconvert_exporter": "python",
   "pygments_lexer": "ipython3",
   "version": "3.9.13"
  }
 },
 "nbformat": 4,
 "nbformat_minor": 5
}
