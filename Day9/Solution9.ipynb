{
 "cells": [
  {
   "cell_type": "code",
   "execution_count": 23,
   "id": "6ee36e7b",
   "metadata": {},
   "outputs": [],
   "source": [
    "from math import sqrt"
   ]
  },
  {
   "cell_type": "markdown",
   "id": "13f78669",
   "metadata": {},
   "source": [
    "**Part 1**"
   ]
  },
  {
   "cell_type": "code",
   "execution_count": 75,
   "id": "b811b8bc",
   "metadata": {},
   "outputs": [],
   "source": [
    "def distance(A,B):\n",
    "    return int(sqrt((B[1]-A[1])**2+(B[0]-A[0])**2))"
   ]
  },
  {
   "cell_type": "code",
   "execution_count": 76,
   "id": "8c97e206",
   "metadata": {},
   "outputs": [],
   "source": [
    "dirs = {'L':-1,'R':1,'U':1,'D':-1}\n",
    "axes = {'L':1,'R':1,'U':0,'D':0}"
   ]
  },
  {
   "cell_type": "code",
   "execution_count": 180,
   "id": "2e4946d9",
   "metadata": {},
   "outputs": [],
   "source": [
    "def count_unique(positions):\n",
    "    Tunique = []\n",
    "    for i in positions:\n",
    "        if i in Tunique:\n",
    "            pass\n",
    "        else:\n",
    "            Tunique.append(i)\n",
    "    return len(Tunique)"
   ]
  },
  {
   "cell_type": "code",
   "execution_count": 181,
   "id": "ea87e501",
   "metadata": {},
   "outputs": [],
   "source": [
    "def main(instructions):\n",
    "    Hpositions = [[0,0]]\n",
    "    Tpositions = [[0,0]]\n",
    "    for move in instructions:\n",
    "        direction, magnitude = move\n",
    "        for submove in range(magnitude):\n",
    "            newH = Hpositions[-1].copy()\n",
    "            newH[axes[direction]] += dirs[direction]\n",
    "            Hpositions.append(newH)\n",
    "            newT = Tpositions[-1].copy()\n",
    "            if distance(Tpositions[-1],Hpositions[-1]) <= 1:\n",
    "                pass\n",
    "            else:\n",
    "                newT = Tpositions[-1].copy()\n",
    "                if Tpositions[-1][0]==Hpositions[-1][0]: # Horizontal Move\n",
    "                    if Hpositions[-1][1] < newT[1]:\n",
    "                        newT[1] -= 1\n",
    "                    else:\n",
    "                        newT[1] += 1\n",
    "                elif Tpositions[-1][1]==Hpositions[-1][1]:\n",
    "                    if Hpositions[-1][0] < newT[0]:\n",
    "                        newT[0] -= 1\n",
    "                    else:\n",
    "                        newT[0] += 1\n",
    "                else:\n",
    "                    if Hpositions[-1][1] < newT[1]: # If H is to the left of T\n",
    "                        newT[1] -= 1\n",
    "                        if Hpositions[-1][0] < newT[0]: # If H is also lower \n",
    "                            newT[0] -= 1\n",
    "                        else:\n",
    "                            newT[0] += 1\n",
    "                    else:\n",
    "                        newT[1] += 1 \n",
    "                        if Hpositions[-1][0] < newT[0]: # If H is also lower \n",
    "                            newT[0] -= 1\n",
    "                        else:\n",
    "                            newT[0] += 1\n",
    "            Tpositions.append(newT)\n",
    "    return count_unique(Tpositions)"
   ]
  },
  {
   "cell_type": "code",
   "execution_count": 183,
   "id": "36d8d8a5",
   "metadata": {
    "scrolled": false
   },
   "outputs": [
    {
     "data": {
      "text/plain": [
       "6018"
      ]
     },
     "execution_count": 183,
     "metadata": {},
     "output_type": "execute_result"
    }
   ],
   "source": [
    "data = []\n",
    "with open('./input.txt','r') as f:\n",
    "    lines = f.readlines()\n",
    "    for line in lines:\n",
    "        data.append([line.strip().split()[0],int(line.strip().split()[1])])\n",
    "\n",
    "main(data)"
   ]
  },
  {
   "cell_type": "markdown",
   "id": "73c06d69",
   "metadata": {},
   "source": [
    "**Part2**\n",
    "\n",
    "General approach is to rewrite the original main function to take a set of positons of a head node and return positions of a tail. This can then be applied recursively by setting the tail to the new head and so on."
   ]
  },
  {
   "cell_type": "code",
   "execution_count": 184,
   "id": "f9555fe1",
   "metadata": {},
   "outputs": [],
   "source": [
    "def initialise_head(instructions):\n",
    "    Hpositions = [[0,0]]\n",
    "    for move in instructions:\n",
    "        direction, magnitude = move\n",
    "        for submove in range(magnitude):\n",
    "            newH = Hpositions[-1].copy()\n",
    "            newH[axes[direction]] += dirs[direction]\n",
    "            Hpositions.append(newH)\n",
    "    return Hpositions"
   ]
  },
  {
   "cell_type": "code",
   "execution_count": 206,
   "id": "5123f2dc",
   "metadata": {},
   "outputs": [],
   "source": [
    "def main2(Hpositions):\n",
    "    Tpositions = [[0,0]]\n",
    "    for position in Hpositions:\n",
    "        newT = Tpositions[-1].copy()\n",
    "        if distance(Tpositions[-1],position) <= 1:\n",
    "                pass\n",
    "        else:\n",
    "            newT = Tpositions[-1].copy()\n",
    "            if Tpositions[-1][0]==position[0]: # Horizontal Move\n",
    "                if position[1] < newT[1]:\n",
    "                    newT[1] -= 1\n",
    "                else:\n",
    "                    newT[1] += 1\n",
    "            elif Tpositions[-1][1]==position[1]:\n",
    "                if position[0] < newT[0]:\n",
    "                    newT[0] -= 1\n",
    "                else:\n",
    "                    newT[0] += 1\n",
    "            else:\n",
    "                if position[1] < newT[1]: # If H is to the left of T\n",
    "                    newT[1] -= 1\n",
    "                    if position[0] < newT[0]: # If H is also lower \n",
    "                        newT[0] -= 1\n",
    "                    else:\n",
    "                        newT[0] += 1\n",
    "                else:\n",
    "                    newT[1] += 1 \n",
    "                    if position[0] < newT[0]: # If H is also lower \n",
    "                        newT[0] -= 1\n",
    "                    else:\n",
    "                        newT[0] += 1\n",
    "        Tpositions.append(newT)\n",
    "    return Tpositions"
   ]
  },
  {
   "cell_type": "code",
   "execution_count": 215,
   "id": "47601a1c",
   "metadata": {},
   "outputs": [
    {
     "name": "stdout",
     "output_type": "stream",
     "text": [
      "2619\n"
     ]
    }
   ],
   "source": [
    "head = initialise_head(data)\n",
    "for i in range(9):\n",
    "    tail = main2(head)\n",
    "    head = tail\n",
    "    \n",
    "print(count_unique(head))"
   ]
  },
  {
   "cell_type": "code",
   "execution_count": null,
   "id": "ec5e774f",
   "metadata": {},
   "outputs": [],
   "source": []
  },
  {
   "cell_type": "code",
   "execution_count": null,
   "id": "e050ad68",
   "metadata": {},
   "outputs": [],
   "source": []
  },
  {
   "cell_type": "code",
   "execution_count": null,
   "id": "e8d7595a",
   "metadata": {},
   "outputs": [],
   "source": []
  },
  {
   "cell_type": "code",
   "execution_count": null,
   "id": "4a4674f6",
   "metadata": {},
   "outputs": [],
   "source": []
  },
  {
   "cell_type": "code",
   "execution_count": null,
   "id": "b9d7b90e",
   "metadata": {},
   "outputs": [],
   "source": []
  },
  {
   "cell_type": "code",
   "execution_count": null,
   "id": "3e707951",
   "metadata": {},
   "outputs": [],
   "source": []
  },
  {
   "cell_type": "code",
   "execution_count": null,
   "id": "d2ae5ced",
   "metadata": {},
   "outputs": [],
   "source": []
  },
  {
   "cell_type": "code",
   "execution_count": null,
   "id": "4f006c8f",
   "metadata": {},
   "outputs": [],
   "source": []
  },
  {
   "cell_type": "code",
   "execution_count": null,
   "id": "756d6ce9",
   "metadata": {},
   "outputs": [],
   "source": []
  },
  {
   "cell_type": "code",
   "execution_count": null,
   "id": "2f9f143e",
   "metadata": {},
   "outputs": [],
   "source": []
  },
  {
   "cell_type": "code",
   "execution_count": null,
   "id": "d34e056d",
   "metadata": {},
   "outputs": [],
   "source": []
  }
 ],
 "metadata": {
  "kernelspec": {
   "display_name": "network",
   "language": "python",
   "name": "network"
  },
  "language_info": {
   "codemirror_mode": {
    "name": "ipython",
    "version": 3
   },
   "file_extension": ".py",
   "mimetype": "text/x-python",
   "name": "python",
   "nbconvert_exporter": "python",
   "pygments_lexer": "ipython3",
   "version": "3.9.13"
  }
 },
 "nbformat": 4,
 "nbformat_minor": 5
}
